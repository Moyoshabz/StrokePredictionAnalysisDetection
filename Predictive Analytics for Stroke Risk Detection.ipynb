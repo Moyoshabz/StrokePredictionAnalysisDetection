{
 "cells": [
  {
   "cell_type": "markdown",
   "id": "ed2cd605",
   "metadata": {},
   "source": [
    "## Predictive Analytics for Stroke Risk Detection"
   ]
  },
  {
   "cell_type": "code",
   "execution_count": 1,
   "id": "60ba54f3-9649-475a-99c8-1b124373d20c",
   "metadata": {},
   "outputs": [],
   "source": [
    "import pandas as pd"
   ]
  },
  {
   "cell_type": "code",
   "execution_count": 2,
   "id": "fee9b162",
   "metadata": {},
   "outputs": [
    {
     "name": "stdout",
     "output_type": "stream",
     "text": [
      "      id  gender   age  hypertension  heart_disease ever_married  \\\n",
      "0   9046    Male  67.0             0              1          Yes   \n",
      "1  51676  Female  61.0             0              0          Yes   \n",
      "2  31112    Male  80.0             0              1          Yes   \n",
      "3  60182  Female  49.0             0              0          Yes   \n",
      "4   1665  Female  79.0             1              0          Yes   \n",
      "\n",
      "       work_type Residence_type  avg_glucose_level   bmi   smoking_status  \\\n",
      "0        Private          Urban             228.69  36.6  formerly smoked   \n",
      "1  Self-employed          Rural             202.21   NaN     never smoked   \n",
      "2        Private          Rural             105.92  32.5     never smoked   \n",
      "3        Private          Urban             171.23  34.4           smokes   \n",
      "4  Self-employed          Rural             174.12  24.0     never smoked   \n",
      "\n",
      "   stroke  \n",
      "0       1  \n",
      "1       1  \n",
      "2       1  \n",
      "3       1  \n",
      "4       1  \n"
     ]
    }
   ],
   "source": [
    "# Import file from my github link\n",
    "\n",
    "file_url = \"https://raw.githubusercontent.com/Moyoshabz/StrokePredictionAnalysisDetection/refs/heads/main/strokedata.csv\"\n",
    "\n",
    "# Load the CSV file into a DataFrame\n",
    "df = pd.read_csv(file_url)\n",
    "\n",
    "# Display the first few rows\n",
    "print(df.head())\n"
   ]
  },
  {
   "cell_type": "markdown",
   "id": "c9ad0530",
   "metadata": {},
   "source": [
    "## Exploratory Data Analysis EDA"
   ]
  },
  {
   "cell_type": "code",
   "execution_count": 3,
   "id": "cd8f694e",
   "metadata": {},
   "outputs": [
    {
     "name": "stdout",
     "output_type": "stream",
     "text": [
      "Total number of records: 5110\n"
     ]
    }
   ],
   "source": [
    "total_records = df.shape[0]\n",
    "print(f\"Total number of records: {total_records}\")"
   ]
  },
  {
   "cell_type": "code",
   "execution_count": 4,
   "id": "fac5e14f",
   "metadata": {},
   "outputs": [
    {
     "name": "stdout",
     "output_type": "stream",
     "text": [
      "id                     int64\n",
      "gender                object\n",
      "age                  float64\n",
      "hypertension           int64\n",
      "heart_disease          int64\n",
      "ever_married          object\n",
      "work_type             object\n",
      "Residence_type        object\n",
      "avg_glucose_level    float64\n",
      "bmi                  float64\n",
      "smoking_status        object\n",
      "stroke                 int64\n",
      "dtype: object\n"
     ]
    }
   ],
   "source": [
    "#Understanding the data type\n",
    "\n",
    "print(df.dtypes)"
   ]
  },
  {
   "cell_type": "code",
   "execution_count": 5,
   "id": "196dcea7",
   "metadata": {},
   "outputs": [],
   "source": [
    "# Drop the ID column\n",
    "\n",
    "df = df.drop(columns=[\"id\"])"
   ]
  },
  {
   "cell_type": "code",
   "execution_count": 6,
   "id": "9dd58e73",
   "metadata": {},
   "outputs": [
    {
     "name": "stdout",
     "output_type": "stream",
     "text": [
      "gender                object\n",
      "age                  float64\n",
      "hypertension           int64\n",
      "heart_disease          int64\n",
      "ever_married          object\n",
      "work_type             object\n",
      "Residence_type        object\n",
      "avg_glucose_level    float64\n",
      "bmi                  float64\n",
      "smoking_status        object\n",
      "stroke                 int64\n",
      "dtype: object\n"
     ]
    }
   ],
   "source": [
    "print(df.dtypes)"
   ]
  },
  {
   "cell_type": "code",
   "execution_count": 7,
   "id": "3cd11e69",
   "metadata": {},
   "outputs": [
    {
     "name": "stdout",
     "output_type": "stream",
     "text": [
      "               age  hypertension  heart_disease  avg_glucose_level  \\\n",
      "count  5110.000000   5110.000000    5110.000000        5110.000000   \n",
      "mean     43.226614      0.097456       0.054012         106.147677   \n",
      "std      22.612647      0.296607       0.226063          45.283560   \n",
      "min       0.080000      0.000000       0.000000          55.120000   \n",
      "25%      25.000000      0.000000       0.000000          77.245000   \n",
      "50%      45.000000      0.000000       0.000000          91.885000   \n",
      "75%      61.000000      0.000000       0.000000         114.090000   \n",
      "max      82.000000      1.000000       1.000000         271.740000   \n",
      "\n",
      "               bmi       stroke  \n",
      "count  4909.000000  5110.000000  \n",
      "mean     28.893237     0.048728  \n",
      "std       7.854067     0.215320  \n",
      "min      10.300000     0.000000  \n",
      "25%      23.500000     0.000000  \n",
      "50%      28.100000     0.000000  \n",
      "75%      33.100000     0.000000  \n",
      "max      97.600000     1.000000  \n"
     ]
    }
   ],
   "source": [
    "#Summary Statistics on the dataset \n",
    "print(df.describe())"
   ]
  },
  {
   "cell_type": "code",
   "execution_count": 8,
   "id": "99db761e",
   "metadata": {},
   "outputs": [
    {
     "name": "stdout",
     "output_type": "stream",
     "text": [
      "work_type :  ['Private' 'Self-employed' 'Govt_job' 'children' 'Never_worked']\n",
      "gender :  ['Male' 'Female']\n",
      "Residence_type :  ['Urban' 'Rural']\n",
      "ever\"_married :  ['Yes' 'No']\n",
      "smoking_status :  ['formerly smoked' 'never smoked' 'smokes' 'Unknown']\n"
     ]
    }
   ],
   "source": [
    "# Next we will encode the categorical variables\n",
    "\n",
    "categorical = ['gender' ,'ever_married','work_type','Residence_type','smoking_status']\n",
    "numerical = ['age', 'hypertension', 'heart_disease','avg_glucose_level', 'bmi']\n",
    "\n",
    "print('work_type : ', df['work_type'].unique())\n",
    "print('gender : ', df['gender'].unique())\n",
    "print('Residence_type : ', df['Residence_type'].unique())\n",
    "print('ever\"_married : ', df['ever_married'].unique())\n",
    "print('smoking_status : ', df['smoking_status'].unique())"
   ]
  },
  {
   "cell_type": "code",
   "execution_count": 9,
   "id": "2dd1578f",
   "metadata": {},
   "outputs": [
    {
     "name": "stdout",
     "output_type": "stream",
     "text": [
      "Requirement already satisfied: numpy==1.21.0 in c:\\users\\moyos\\anaconda3\\lib\\site-packages (1.21.0)\n"
     ]
    }
   ],
   "source": [
    "!pip install numpy==1.21.0"
   ]
  },
  {
   "cell_type": "code",
   "execution_count": 10,
   "id": "3d433ebd",
   "metadata": {},
   "outputs": [],
   "source": [
    "from sklearn.preprocessing import LabelEncoder\n",
    "le=LabelEncoder() \n",
    "\n",
    "smoking_status = le.fit_transform(df['smoking_status'])\n",
    "gender = le.fit_transform(df['gender'])\n",
    "ever_married = le.fit_transform(df['ever_married'])\n",
    "Residence_type = le.fit_transform(df['Residence_type'])\n",
    "work_type = le.fit_transform(df['work_type'])"
   ]
  },
  {
   "cell_type": "code",
   "execution_count": 11,
   "id": "52359d1c",
   "metadata": {},
   "outputs": [
    {
     "data": {
      "text/html": [
       "<div>\n",
       "<style scoped>\n",
       "    .dataframe tbody tr th:only-of-type {\n",
       "        vertical-align: middle;\n",
       "    }\n",
       "\n",
       "    .dataframe tbody tr th {\n",
       "        vertical-align: top;\n",
       "    }\n",
       "\n",
       "    .dataframe thead th {\n",
       "        text-align: right;\n",
       "    }\n",
       "</style>\n",
       "<table border=\"1\" class=\"dataframe\">\n",
       "  <thead>\n",
       "    <tr style=\"text-align: right;\">\n",
       "      <th></th>\n",
       "      <th>gender</th>\n",
       "      <th>age</th>\n",
       "      <th>hypertension</th>\n",
       "      <th>heart_disease</th>\n",
       "      <th>ever_married</th>\n",
       "      <th>work_type</th>\n",
       "      <th>Residence_type</th>\n",
       "      <th>avg_glucose_level</th>\n",
       "      <th>bmi</th>\n",
       "      <th>smoking_status</th>\n",
       "      <th>stroke</th>\n",
       "    </tr>\n",
       "  </thead>\n",
       "  <tbody>\n",
       "    <tr>\n",
       "      <th>0</th>\n",
       "      <td>1</td>\n",
       "      <td>67.0</td>\n",
       "      <td>0</td>\n",
       "      <td>1</td>\n",
       "      <td>1</td>\n",
       "      <td>2</td>\n",
       "      <td>1</td>\n",
       "      <td>228.69</td>\n",
       "      <td>36.6</td>\n",
       "      <td>1</td>\n",
       "      <td>1</td>\n",
       "    </tr>\n",
       "    <tr>\n",
       "      <th>1</th>\n",
       "      <td>0</td>\n",
       "      <td>61.0</td>\n",
       "      <td>0</td>\n",
       "      <td>0</td>\n",
       "      <td>1</td>\n",
       "      <td>3</td>\n",
       "      <td>0</td>\n",
       "      <td>202.21</td>\n",
       "      <td>NaN</td>\n",
       "      <td>2</td>\n",
       "      <td>1</td>\n",
       "    </tr>\n",
       "    <tr>\n",
       "      <th>2</th>\n",
       "      <td>1</td>\n",
       "      <td>80.0</td>\n",
       "      <td>0</td>\n",
       "      <td>1</td>\n",
       "      <td>1</td>\n",
       "      <td>2</td>\n",
       "      <td>0</td>\n",
       "      <td>105.92</td>\n",
       "      <td>32.5</td>\n",
       "      <td>2</td>\n",
       "      <td>1</td>\n",
       "    </tr>\n",
       "    <tr>\n",
       "      <th>3</th>\n",
       "      <td>0</td>\n",
       "      <td>49.0</td>\n",
       "      <td>0</td>\n",
       "      <td>0</td>\n",
       "      <td>1</td>\n",
       "      <td>2</td>\n",
       "      <td>1</td>\n",
       "      <td>171.23</td>\n",
       "      <td>34.4</td>\n",
       "      <td>3</td>\n",
       "      <td>1</td>\n",
       "    </tr>\n",
       "    <tr>\n",
       "      <th>4</th>\n",
       "      <td>0</td>\n",
       "      <td>79.0</td>\n",
       "      <td>1</td>\n",
       "      <td>0</td>\n",
       "      <td>1</td>\n",
       "      <td>3</td>\n",
       "      <td>0</td>\n",
       "      <td>174.12</td>\n",
       "      <td>24.0</td>\n",
       "      <td>2</td>\n",
       "      <td>1</td>\n",
       "    </tr>\n",
       "    <tr>\n",
       "      <th>...</th>\n",
       "      <td>...</td>\n",
       "      <td>...</td>\n",
       "      <td>...</td>\n",
       "      <td>...</td>\n",
       "      <td>...</td>\n",
       "      <td>...</td>\n",
       "      <td>...</td>\n",
       "      <td>...</td>\n",
       "      <td>...</td>\n",
       "      <td>...</td>\n",
       "      <td>...</td>\n",
       "    </tr>\n",
       "    <tr>\n",
       "      <th>5105</th>\n",
       "      <td>0</td>\n",
       "      <td>80.0</td>\n",
       "      <td>1</td>\n",
       "      <td>0</td>\n",
       "      <td>1</td>\n",
       "      <td>2</td>\n",
       "      <td>1</td>\n",
       "      <td>83.75</td>\n",
       "      <td>NaN</td>\n",
       "      <td>2</td>\n",
       "      <td>0</td>\n",
       "    </tr>\n",
       "    <tr>\n",
       "      <th>5106</th>\n",
       "      <td>0</td>\n",
       "      <td>81.0</td>\n",
       "      <td>0</td>\n",
       "      <td>0</td>\n",
       "      <td>1</td>\n",
       "      <td>3</td>\n",
       "      <td>1</td>\n",
       "      <td>125.20</td>\n",
       "      <td>40.0</td>\n",
       "      <td>2</td>\n",
       "      <td>0</td>\n",
       "    </tr>\n",
       "    <tr>\n",
       "      <th>5107</th>\n",
       "      <td>0</td>\n",
       "      <td>35.0</td>\n",
       "      <td>0</td>\n",
       "      <td>0</td>\n",
       "      <td>1</td>\n",
       "      <td>3</td>\n",
       "      <td>0</td>\n",
       "      <td>82.99</td>\n",
       "      <td>30.6</td>\n",
       "      <td>2</td>\n",
       "      <td>0</td>\n",
       "    </tr>\n",
       "    <tr>\n",
       "      <th>5108</th>\n",
       "      <td>1</td>\n",
       "      <td>51.0</td>\n",
       "      <td>0</td>\n",
       "      <td>0</td>\n",
       "      <td>1</td>\n",
       "      <td>2</td>\n",
       "      <td>0</td>\n",
       "      <td>166.29</td>\n",
       "      <td>25.6</td>\n",
       "      <td>1</td>\n",
       "      <td>0</td>\n",
       "    </tr>\n",
       "    <tr>\n",
       "      <th>5109</th>\n",
       "      <td>0</td>\n",
       "      <td>44.0</td>\n",
       "      <td>0</td>\n",
       "      <td>0</td>\n",
       "      <td>1</td>\n",
       "      <td>0</td>\n",
       "      <td>1</td>\n",
       "      <td>85.28</td>\n",
       "      <td>26.2</td>\n",
       "      <td>0</td>\n",
       "      <td>0</td>\n",
       "    </tr>\n",
       "  </tbody>\n",
       "</table>\n",
       "<p>5110 rows × 11 columns</p>\n",
       "</div>"
      ],
      "text/plain": [
       "      gender   age  hypertension  heart_disease  ever_married  work_type  \\\n",
       "0          1  67.0             0              1             1          2   \n",
       "1          0  61.0             0              0             1          3   \n",
       "2          1  80.0             0              1             1          2   \n",
       "3          0  49.0             0              0             1          2   \n",
       "4          0  79.0             1              0             1          3   \n",
       "...      ...   ...           ...            ...           ...        ...   \n",
       "5105       0  80.0             1              0             1          2   \n",
       "5106       0  81.0             0              0             1          3   \n",
       "5107       0  35.0             0              0             1          3   \n",
       "5108       1  51.0             0              0             1          2   \n",
       "5109       0  44.0             0              0             1          0   \n",
       "\n",
       "      Residence_type  avg_glucose_level   bmi  smoking_status  stroke  \n",
       "0                  1             228.69  36.6               1       1  \n",
       "1                  0             202.21   NaN               2       1  \n",
       "2                  0             105.92  32.5               2       1  \n",
       "3                  1             171.23  34.4               3       1  \n",
       "4                  0             174.12  24.0               2       1  \n",
       "...              ...                ...   ...             ...     ...  \n",
       "5105               1              83.75   NaN               2       0  \n",
       "5106               1             125.20  40.0               2       0  \n",
       "5107               0              82.99  30.6               2       0  \n",
       "5108               0             166.29  25.6               1       0  \n",
       "5109               1              85.28  26.2               0       0  \n",
       "\n",
       "[5110 rows x 11 columns]"
      ]
     },
     "execution_count": 11,
     "metadata": {},
     "output_type": "execute_result"
    }
   ],
   "source": [
    "\n",
    "df['work_type'] = work_type\n",
    "df['gender'] = gender\n",
    "df['Residence_type'] = Residence_type\n",
    "df['ever_married'] = ever_married\n",
    "df['smoking_status'] = smoking_status\n",
    "\n",
    "#Viewing the encoded categories\n",
    "df"
   ]
  },
  {
   "cell_type": "code",
   "execution_count": 12,
   "id": "048c4453",
   "metadata": {},
   "outputs": [
    {
     "name": "stdout",
     "output_type": "stream",
     "text": [
      "gender                 0\n",
      "age                    0\n",
      "hypertension           0\n",
      "heart_disease          0\n",
      "ever_married           0\n",
      "work_type              0\n",
      "Residence_type         0\n",
      "avg_glucose_level      0\n",
      "bmi                  201\n",
      "smoking_status         0\n",
      "stroke                 0\n",
      "dtype: int64\n"
     ]
    }
   ],
   "source": [
    "#Observing the columns with null\n",
    "\n",
    "print(df.isnull().sum())"
   ]
  },
  {
   "cell_type": "code",
   "execution_count": 13,
   "id": "df0e1e79",
   "metadata": {},
   "outputs": [],
   "source": [
    "# The BMI COLUMN according to our analysis shows 201 null data, to rectify this, we would use median imputation to fix this\n",
    "\n",
    "median_bmi = df[\"bmi\"].median()\n",
    "df[\"bmi\"] = df[\"bmi\"].fillna(median_bmi)"
   ]
  },
  {
   "cell_type": "code",
   "execution_count": 14,
   "id": "7de213b1",
   "metadata": {},
   "outputs": [
    {
     "name": "stdout",
     "output_type": "stream",
     "text": [
      "gender               0\n",
      "age                  0\n",
      "hypertension         0\n",
      "heart_disease        0\n",
      "ever_married         0\n",
      "work_type            0\n",
      "Residence_type       0\n",
      "avg_glucose_level    0\n",
      "bmi                  0\n",
      "smoking_status       0\n",
      "stroke               0\n",
      "dtype: int64\n"
     ]
    }
   ],
   "source": [
    "print(df.isnull().sum())"
   ]
  },
  {
   "cell_type": "code",
   "execution_count": 15,
   "id": "76d06480",
   "metadata": {},
   "outputs": [
    {
     "name": "stdout",
     "output_type": "stream",
     "text": [
      "   gender   age  hypertension  heart_disease  ever_married  work_type  \\\n",
      "0       1  67.0             0              1             1          2   \n",
      "1       0  61.0             0              0             1          3   \n",
      "2       1  80.0             0              1             1          2   \n",
      "3       0  49.0             0              0             1          2   \n",
      "4       0  79.0             1              0             1          3   \n",
      "5       1  81.0             0              0             1          2   \n",
      "6       1  74.0             1              1             1          2   \n",
      "7       0  69.0             0              0             0          2   \n",
      "8       0  59.0             0              0             1          2   \n",
      "9       0  78.0             0              0             1          2   \n",
      "\n",
      "   Residence_type  avg_glucose_level   bmi  smoking_status  stroke  \n",
      "0               1             228.69  36.6               1       1  \n",
      "1               0             202.21  28.1               2       1  \n",
      "2               0             105.92  32.5               2       1  \n",
      "3               1             171.23  34.4               3       1  \n",
      "4               0             174.12  24.0               2       1  \n",
      "5               1             186.21  29.0               1       1  \n",
      "6               0              70.09  27.4               2       1  \n",
      "7               1              94.39  22.8               2       1  \n",
      "8               0              76.15  28.1               0       1  \n",
      "9               1              58.57  24.2               0       1  \n"
     ]
    }
   ],
   "source": [
    "#overview of our data\n",
    "\n",
    "print(df.head(10))"
   ]
  },
  {
   "cell_type": "code",
   "execution_count": 16,
   "id": "3bccb3bb",
   "metadata": {},
   "outputs": [
    {
     "name": "stdout",
     "output_type": "stream",
     "text": [
      "                     gender       age  hypertension  heart_disease  \\\n",
      "gender             1.000000 -0.019268      0.021275       0.085717   \n",
      "age               -0.019268  1.000000      0.280647       0.269627   \n",
      "hypertension       0.021275  0.280647      1.000000       0.108306   \n",
      "heart_disease      0.085717  0.269627      0.108306       1.000000   \n",
      "ever_married      -0.029936  0.664408      0.164243       0.114644   \n",
      "work_type          0.053714 -0.279676     -0.034279      -0.016455   \n",
      "Residence_type    -0.005937  0.014158     -0.007913       0.003092   \n",
      "avg_glucose_level  0.048641  0.145168      0.114041       0.106360   \n",
      "bmi                0.002454  0.362859      0.159703       0.062685   \n",
      "smoking_status    -0.062586  0.233404      0.108804       0.046829   \n",
      "stroke             0.009117  0.249531      0.127904       0.134914   \n",
      "\n",
      "                   ever_married  work_type  Residence_type  avg_glucose_level  \\\n",
      "gender                -0.029936   0.053714       -0.005937           0.048641   \n",
      "age                    0.664408  -0.279676        0.014158           0.145168   \n",
      "hypertension           0.164243  -0.034279       -0.007913           0.114041   \n",
      "heart_disease          0.114644  -0.016455        0.003092           0.106360   \n",
      "ever_married           1.000000  -0.323441        0.006261           0.098379   \n",
      "work_type             -0.323441   1.000000       -0.003755          -0.020432   \n",
      "Residence_type         0.006261  -0.003755        1.000000          -0.013411   \n",
      "avg_glucose_level      0.098379  -0.020432       -0.013411           1.000000   \n",
      "bmi                    0.376640  -0.313721        0.000432           0.111914   \n",
      "smoking_status         0.253960  -0.301382        0.008244           0.037275   \n",
      "stroke                 0.108340  -0.024647        0.015458           0.082541   \n",
      "\n",
      "                        bmi  smoking_status    stroke  \n",
      "gender             0.002454       -0.062586  0.009117  \n",
      "age                0.362859        0.233404  0.249531  \n",
      "hypertension       0.159703        0.108804  0.127904  \n",
      "heart_disease      0.062685        0.046829  0.134914  \n",
      "ever_married       0.376640        0.253960  0.108340  \n",
      "work_type         -0.313721       -0.301382 -0.024647  \n",
      "Residence_type     0.000432        0.008244  0.015458  \n",
      "avg_glucose_level  0.111914        0.037275  0.082541  \n",
      "bmi                1.000000        0.232283  0.050870  \n",
      "smoking_status     0.232283        1.000000  0.026407  \n",
      "stroke             0.050870        0.026407  1.000000  \n"
     ]
    }
   ],
   "source": [
    "#Correlation analysis \n",
    "\n",
    "spearman_corr = df.corr(method='spearman')\n",
    "print(spearman_corr)"
   ]
  },
  {
   "cell_type": "code",
   "execution_count": 17,
   "id": "b84807dd",
   "metadata": {},
   "outputs": [
    {
     "data": {
      "image/png": "[encoded data removed]",
      "text/plain": [
       "<Figure size 576x432 with 2 Axes>"
      ]
     },
     "metadata": {
      "needs_background": "light"
     },
     "output_type": "display_data"
    }
   ],
   "source": [
    "import matplotlib.pyplot as plt\n",
    "import seaborn as sns\n",
    "\n",
    "correlation_matrix = df.corr()\n",
    "\n",
    "plt.figure(figsize=(8, 6))\n",
    "sns.heatmap(correlation_matrix, annot=True, cmap=\"coolwarm\", fmt=\".2f\", linewidths=0.5)\n",
    "plt.title(\"Correlation Matrix Heatmap\")\n",
    "\n",
    "# Showing the plot\n",
    "plt.show()\n"
   ]
  },
  {
   "cell_type": "code",
   "execution_count": 18,
   "id": "858f0cbd",
   "metadata": {},
   "outputs": [
    {
     "data": {
      "image/png": "[encoded data removed]",
      "text/plain": [
       "<Figure size 864x288 with 1 Axes>"
      ]
     },
     "metadata": {
      "needs_background": "light"
     },
     "output_type": "display_data"
    }
   ],
   "source": [
    "#visualization\n",
    "# According to the CDC Stroke risk increases with age, we would like to understand the age distribution \n",
    "import matplotlib.pyplot as plt\n",
    "\n",
    "plt.figure(figsize=(12, 4))\n",
    "pl = sns.histplot(x='age', data=df, hue='stroke', bins=35 )\n",
    "pl.set_title('Age vs Stroke')\n",
    "plt.title(\"Age VS Stroke\")\n",
    "plt.xlabel(\"Age\")\n",
    "plt.ylabel(\"Count\")\n",
    "\n",
    "plt.show()"
   ]
  },
  {
   "cell_type": "code",
   "execution_count": 19,
   "id": "d32ce723",
   "metadata": {},
   "outputs": [
    {
     "data": {
      "text/plain": [
       "Text(0.5, 1.0, 'Stroke vs BMI')"
      ]
     },
     "execution_count": 19,
     "metadata": {},
     "output_type": "execute_result"
    },
    {
     "data": {
      "image/png": "[encoded data removed]",
      "text/plain": [
       "<Figure size 864x288 with 1 Axes>"
      ]
     },
     "metadata": {
      "needs_background": "light"
     },
     "output_type": "display_data"
    }
   ],
   "source": [
    "plt.figure(figsize=(12,4))\n",
    "pl = sns.histplot(x='bmi', data=df, hue='stroke', bins=40, palette='magma')\n",
    "pl.set_title('Stroke vs BMI')"
   ]
  },
  {
   "cell_type": "markdown",
   "id": "3f2d3af1",
   "metadata": {},
   "source": [
    "## Understanding the stroke column data"
   ]
  },
  {
   "cell_type": "code",
   "execution_count": 20,
   "id": "4c5901bb",
   "metadata": {},
   "outputs": [
    {
     "name": "stdout",
     "output_type": "stream",
     "text": [
      "Count of each value in 'Stroke' column:\n",
      "0    4861\n",
      "1     249\n",
      "Name: stroke, dtype: int64\n"
     ]
    }
   ],
   "source": [
    "stroke_counts = df[\"stroke\"].value_counts()\n",
    "\n",
    "# Display the counts\n",
    "print(\"Count of each value in 'Stroke' column:\")\n",
    "print(stroke_counts)"
   ]
  },
  {
   "cell_type": "markdown",
   "id": "c1c93cd6",
   "metadata": {},
   "source": [
    "### From this we see, that we have more \"0\" than \"1\" This indicates an imbalance in the dataset. This imbalance could lead to underfitting if used as-is for prediction"
   ]
  },
  {
   "cell_type": "markdown",
   "id": "e126edd3",
   "metadata": {},
   "source": [
    "## Model\n",
    "\n",
    "#### Below are the models that would be used in this project\n",
    "\n",
    "### XGBoost, Decision Tree, and Random Forest"
   ]
  },
  {
   "cell_type": "markdown",
   "id": "6e65f064",
   "metadata": {},
   "source": [
    "### Applying SMOTE \n"
   ]
  },
  {
   "cell_type": "code",
   "execution_count": 21,
   "id": "1dd4f4ae",
   "metadata": {},
   "outputs": [],
   "source": [
    "from imblearn.over_sampling import SMOTE\n",
    "datax = df.copy()\n",
    "X = df.drop('stroke', axis = 1)\n",
    "Y = df['stroke']\n",
    "Y = pd.DataFrame(Y)"
   ]
  },
  {
   "cell_type": "code",
   "execution_count": 22,
   "id": "1846a532",
   "metadata": {},
   "outputs": [
    {
     "data": {
      "text/plain": [
       "stroke\n",
       "0         4861\n",
       "1          249\n",
       "dtype: int64"
      ]
     },
     "execution_count": 22,
     "metadata": {},
     "output_type": "execute_result"
    }
   ],
   "source": [
    "# Applying SMOTE to creates synthetic samples of the minority class '1'\n",
    "\n",
    "smote_Tech = SMOTE(random_state = 10)\n",
    "X1, Y1 = smote_Tech.fit_resample(X, Y)\n",
    "Y.value_counts()"
   ]
  },
  {
   "cell_type": "code",
   "execution_count": 23,
   "id": "f0d5857f",
   "metadata": {},
   "outputs": [
    {
     "data": {
      "text/plain": [
       "stroke\n",
       "0         4861\n",
       "1         4861\n",
       "dtype: int64"
      ]
     },
     "execution_count": 23,
     "metadata": {},
     "output_type": "execute_result"
    }
   ],
   "source": [
    "#\n",
    "Y1 = pd.DataFrame(Y1)\n",
    "X1 = pd.DataFrame(X1)\n",
    "Y1.value_counts()"
   ]
  },
  {
   "cell_type": "code",
   "execution_count": 24,
   "id": "7e05f45a",
   "metadata": {},
   "outputs": [
    {
     "data": {
      "text/plain": [
       "stroke\n",
       "0         3892\n",
       "1         3885\n",
       "dtype: int64"
      ]
     },
     "execution_count": 24,
     "metadata": {},
     "output_type": "execute_result"
    }
   ],
   "source": [
    "# Splitting our dataset into training and tetsing , using the 80%:20%\n",
    "\n",
    "from sklearn.model_selection import train_test_split\n",
    "X_train, X_test, Y_train, Y_test = train_test_split(X1,Y1,test_size=0.2 ,random_state = 105)\n",
    "Y_train.value_counts()"
   ]
  },
  {
   "cell_type": "markdown",
   "id": "2bcd024a",
   "metadata": {},
   "source": [
    "### 1. XGBOOST MODEL"
   ]
  },
  {
   "cell_type": "code",
   "execution_count": 25,
   "id": "6f14e250",
   "metadata": {},
   "outputs": [
    {
     "name": "stdout",
     "output_type": "stream",
     "text": [
      "Model Accuracy: 96.04%\n"
     ]
    }
   ],
   "source": [
    "#Importing xgboost library\n",
    "\n",
    "import xgboost as xgb\n",
    "from sklearn.metrics import accuracy_score\n",
    "\n",
    "xgb_model = xgb.XGBClassifier()\n",
    "xgb_model.fit(X_train, Y_train)\n",
    "\n",
    "#Lets make prediction\n",
    "predictions = xgb_model.predict(X_test)\n",
    "\n",
    "#Computing the accuracy score for our model\n",
    "accuracy = accuracy_score(Y_test, predictions)\n",
    "print(f\"Model Accuracy: {accuracy * 100:.2f}%\")"
   ]
  },
  {
   "cell_type": "code",
   "execution_count": 26,
   "id": "a8e81e41",
   "metadata": {},
   "outputs": [
    {
     "name": "stdout",
     "output_type": "stream",
     "text": [
      "Feature Names: ['gender', 'age', 'hypertension', 'heart_disease', 'ever_married', 'work_type', 'Residence_type', 'avg_glucose_level', 'bmi', 'smoking_status']\n",
      "Importance Scores: [0.09453575 0.15987307 0.11604743 0.12104237 0.10832491 0.14218347\n",
      " 0.0832607  0.05631174 0.04978511 0.06863546]\n"
     ]
    }
   ],
   "source": [
    "feature_names = X_train.columns\n",
    "\n",
    "# Lets retrieve feature importance to the scores\n",
    "importance_scores = xgb_model.feature_importances_\n",
    "\n",
    "#Lets display the result\n",
    "print(\"Feature Names:\", feature_names.tolist())  \n",
    "print(\"Importance Scores:\", importance_scores)\n"
   ]
  },
  {
   "cell_type": "code",
   "execution_count": 27,
   "id": "1ec52687",
   "metadata": {},
   "outputs": [
    {
     "name": "stdout",
     "output_type": "stream",
     "text": [
      "Confusion Matrix:\n",
      " [[931  38]\n",
      " [ 39 937]]\n",
      "True Positives: 937\n",
      "True Negatives: 931\n",
      "False Positives: 38\n",
      "False Negatives: 39\n",
      "\n",
      "Classification Report:\n",
      "               precision    recall  f1-score   support\n",
      "\n",
      "           0       0.96      0.96      0.96       969\n",
      "           1       0.96      0.96      0.96       976\n",
      "\n",
      "    accuracy                           0.96      1945\n",
      "   macro avg       0.96      0.96      0.96      1945\n",
      "weighted avg       0.96      0.96      0.96      1945\n",
      "\n",
      "Specificity: 0.9608\n"
     ]
    }
   ],
   "source": [
    "\n",
    "from sklearn.metrics import confusion_matrix, classification_report\n",
    "\n",
    "#Generating confusion Matrix\n",
    "conf_matrix = confusion_matrix(Y_test, predictions)\n",
    "\n",
    "# Display the confusion Matrix\n",
    "print(\"Confusion Matrix:\\n\", conf_matrix)\n",
    "\n",
    "\n",
    "# Extract key values\n",
    "true_positive = conf_matrix[1][1]\n",
    "true_negative = conf_matrix[0][0]\n",
    "false_positive = conf_matrix[0][1]\n",
    "false_negative = conf_matrix[1][0]\n",
    "\n",
    "print(f\"True Positives: {true_positive}\")\n",
    "print(f\"True Negatives: {true_negative}\")\n",
    "print(f\"False Positives: {false_positive}\")\n",
    "print(f\"False Negatives: {false_negative}\")\n",
    "\n",
    "print(\"\\nClassification Report:\\n\", classification_report(Y_test, predictions))\n",
    "\n",
    "specificity_score = true_negative / (true_negative + false_positive)\n",
    "print(f\"Specificity: {specificity_score:.4f}\")\n"
   ]
  },
  {
   "cell_type": "code",
   "execution_count": 28,
   "id": "22d0c0f3",
   "metadata": {},
   "outputs": [
    {
     "name": "stdout",
     "output_type": "stream",
     "text": [
      "ROC AUC Score for XGBoost: 0.9914\n"
     ]
    }
   ],
   "source": [
    "from sklearn.metrics import roc_curve, roc_auc_score\n",
    "\n",
    "probabilities = xgb_model.predict_proba(X_test)[:, 1]\n",
    "fpr, tpr, thresholds = roc_curve(Y_test, probabilities)\n",
    "\n",
    "auc_score = roc_auc_score(Y_test, probabilities)\n",
    "print(f\"ROC AUC Score for XGBoost: {auc_score:.4f}\")\n"
   ]
  },
  {
   "cell_type": "code",
   "execution_count": 29,
   "id": "fa4ea203",
   "metadata": {},
   "outputs": [
    {
     "data": {
      "image/png": "[encoded data removed]",
      "text/plain": [
       "<Figure size 360x360 with 1 Axes>"
      ]
     },
     "metadata": {
      "needs_background": "light"
     },
     "output_type": "display_data"
    }
   ],
   "source": [
    "import matplotlib.pyplot as plt\n",
    "\n",
    "# Plot ROC Curve\n",
    "plt.figure(figsize=(5,5))\n",
    "plt.title('XGBoost Model Performance')\n",
    "plt.plot(fpr, tpr, label=f'XGBoost AUC = {auc_score:.4f}')\n",
    "plt.plot([0, 1], ls=\"--\", label='Random Classifier')\n",
    "plt.xlabel('False Positive Rate')\n",
    "plt.ylabel('True Positive Rate')\n",
    "plt.legend(loc='lower right')\n",
    "plt.show()\n"
   ]
  },
  {
   "cell_type": "markdown",
   "id": "e1d2125b",
   "metadata": {},
   "source": [
    "### 2. DECISION TREE"
   ]
  },
  {
   "cell_type": "code",
   "execution_count": 30,
   "id": "ac15676f",
   "metadata": {},
   "outputs": [
    {
     "name": "stdout",
     "output_type": "stream",
     "text": [
      "Decision Tree Accuracy: 91.72%\n",
      "\n",
      "Confusion Matrix:\n",
      " [[886  83]\n",
      " [ 78 898]]\n",
      "\n",
      "Classification Report:\n",
      "               precision    recall  f1-score   support\n",
      "\n",
      "           0       0.92      0.91      0.92       969\n",
      "           1       0.92      0.92      0.92       976\n",
      "\n",
      "    accuracy                           0.92      1945\n",
      "   macro avg       0.92      0.92      0.92      1945\n",
      "weighted avg       0.92      0.92      0.92      1945\n",
      "\n",
      "ROC AUC Score for Decision Tree: 0.9172\n"
     ]
    }
   ],
   "source": [
    "from sklearn.tree import DecisionTreeClassifier\n",
    "from sklearn.metrics import accuracy_score, confusion_matrix, classification_report, roc_curve, roc_auc_score\n",
    "\n",
    "dt_model = DecisionTreeClassifier()\n",
    "dt_model.fit(X_train, Y_train)\n",
    "\n",
    "dt_predictions = dt_model.predict(X_test)\n",
    "\n",
    "dt_accuracy = accuracy_score(Y_test, dt_predictions)\n",
    "print(f\"Decision Tree Accuracy: {dt_accuracy * 100:.2f}%\")\n",
    "\n",
    "conf_matrix_dt = confusion_matrix(Y_test, dt_predictions)\n",
    "print(\"\\nConfusion Matrix:\\n\", conf_matrix_dt)\n",
    "\n",
    "print(\"\\nClassification Report:\\n\", classification_report(Y_test, dt_predictions))\n",
    "\n",
    "dt_probabilities = dt_model.predict_proba(X_test)[:, 1]\n",
    "\n",
    "\n",
    "fpr_dt, tpr_dt, thresholds_dt = roc_curve(Y_test, dt_probabilities)\n",
    "auc_dt = roc_auc_score(Y_test, dt_probabilities)\n",
    "\n",
    "print(f\"ROC AUC Score for Decision Tree: {auc_dt:.4f}\")"
   ]
  },
  {
   "cell_type": "code",
   "execution_count": 31,
   "id": "42979999",
   "metadata": {},
   "outputs": [
    {
     "data": {
      "image/png": "[encoded data removed]",
      "text/plain": [
       "<Figure size 360x360 with 1 Axes>"
      ]
     },
     "metadata": {
      "needs_background": "light"
     },
     "output_type": "display_data"
    }
   ],
   "source": [
    "import matplotlib.pyplot as plt\n",
    "\n",
    "plt.figure(figsize=(5,5))\n",
    "plt.title('Decision Tree Model Performance')\n",
    "plt.plot(fpr_dt, tpr_dt, label=f'Decision Tree AUC = {auc_dt:.4f}', color='red')\n",
    "plt.plot([0, 1], ls=\"--\", label='Random Classifier', color='gray')\n",
    "plt.xlabel('False Positive Rate')\n",
    "plt.ylabel('True Positive Rate')\n",
    "plt.legend(loc='lower right')\n",
    "plt.show()"
   ]
  },
  {
   "cell_type": "markdown",
   "id": "b6c79911",
   "metadata": {},
   "source": [
    "## RANDOM FOREST"
   ]
  },
  {
   "cell_type": "code",
   "execution_count": 32,
   "id": "450820c1",
   "metadata": {},
   "outputs": [
    {
     "name": "stderr",
     "output_type": "stream",
     "text": [
      "C:\\Users\\moyos\\AppData\\Local\\Temp\\ipykernel_32196\\268753815.py:6: DataConversionWarning: A column-vector y was passed when a 1d array was expected. Please change the shape of y to (n_samples,), for example using ravel().\n",
      "  RF.fit(X_train, Y_train)\n"
     ]
    },
    {
     "name": "stdout",
     "output_type": "stream",
     "text": [
      "Accuracy: 94.09%\n",
      "Confusion Matrix:\n",
      " [[901  68]\n",
      " [ 47 929]]\n",
      "True Positives: 929\n",
      "True Negatives: 901\n",
      "False Positives: 68\n",
      "False Negatives: 47\n",
      "\n",
      "Classification Report:\n",
      "               precision    recall  f1-score   support\n",
      "\n",
      "           0       0.95      0.93      0.94       969\n",
      "           1       0.93      0.95      0.94       976\n",
      "\n",
      "    accuracy                           0.94      1945\n",
      "   macro avg       0.94      0.94      0.94      1945\n",
      "weighted avg       0.94      0.94      0.94      1945\n",
      "\n",
      "Specificity: 0.9298\n",
      "ROC AUC Score for Random Forest: 0.9891\n"
     ]
    }
   ],
   "source": [
    "from sklearn.ensemble import RandomForestClassifier\n",
    "from sklearn.metrics import roc_curve, roc_auc_score, accuracy_score, confusion_matrix, classification_report\n",
    "\n",
    "# Train Random Forest Model\n",
    "RF = RandomForestClassifier(n_estimators=1000, random_state=47, n_jobs=3)\n",
    "RF.fit(X_train, Y_train)\n",
    "\n",
    "# Predict class labels\n",
    "Y_Res_RF = RF.predict(X_test)\n",
    "\n",
    "# Predict probabilities for ROC AUC (use probability for the positive class, i.e., 1)\n",
    "RF_probs = RF.predict_proba(X_test)[:, 1]\n",
    "\n",
    "# Calculate Accuracy\n",
    "RF_Accuracy = accuracy_score(Y_test, Y_Res_RF)\n",
    "print(f\"Accuracy: {RF_Accuracy * 100:.2f}%\")\n",
    "\n",
    "# Compute Confusion Matrix\n",
    "CM = confusion_matrix(Y_test, Y_Res_RF)\n",
    "print(\"Confusion Matrix:\\n\", CM)\n",
    "print(f\"True Positives: {CM[1][1]}\")\n",
    "print(f\"True Negatives: {CM[0][0]}\")\n",
    "print(f\"False Positives: {CM[0][1]}\")\n",
    "print(f\"False Negatives: {CM[1][0]}\")\n",
    "\n",
    "# Compute Classification Report\n",
    "print(\"\\nClassification Report:\\n\", classification_report(Y_test, Y_Res_RF))\n",
    "\n",
    "# Compute Specificity\n",
    "specificity = CM[0][0] / (CM[0][0] + CM[0][1])\n",
    "print(f\"Specificity: {specificity:.4f}\")\n",
    "\n",
    "# Compute ROC Curve and AUC Score\n",
    "fpr, tpr, thresholds = roc_curve(Y_test, RF_probs)\n",
    "auc_score = roc_auc_score(Y_test, RF_probs)\n",
    "print(f\"ROC AUC Score for Random Forest: {auc_score:.4f}\")\n"
   ]
  },
  {
   "cell_type": "code",
   "execution_count": 33,
   "id": "51891135",
   "metadata": {},
   "outputs": [
    {
     "data": {
      "image/png": "[encoded data removed]",
      "text/plain": [
       "<Figure size 432x432 with 1 Axes>"
      ]
     },
     "metadata": {
      "needs_background": "light"
     },
     "output_type": "display_data"
    }
   ],
   "source": [
    "import matplotlib.pyplot as plt\n",
    "\n",
    "plt.figure(figsize=(6,6))\n",
    "plt.title('Random Forest Model Performance')\n",
    "plt.plot(fpr, tpr, label=f'Random Forest AUC = {auc_score:.4f}', color='blue')\n",
    "plt.plot([0, 1], [0, 1], ls=\"--\", color='red', label='Random Classifier')  # Diagonal line\n",
    "plt.xlabel('False Positive Rate')\n",
    "plt.ylabel('True Positive Rate')\n",
    "plt.legend(loc='lower right')\n",
    "plt.show()"
   ]
  },
  {
   "cell_type": "markdown",
   "id": "893a5827",
   "metadata": {},
   "source": [
    "### Model Comparison & Analysis\n",
    "\n",
    "#### Comparing all 3 models to select the best performing model"
   ]
  },
  {
   "cell_type": "code",
   "execution_count": 34,
   "id": "8ae85be7",
   "metadata": {},
   "outputs": [
    {
     "data": {
      "image/png": "[encoded data removed]",
      "text/plain": [
       "<Figure size 576x576 with 1 Axes>"
      ]
     },
     "metadata": {
      "needs_background": "light"
     },
     "output_type": "display_data"
    }
   ],
   "source": [
    "import matplotlib.pyplot as plt\n",
    "from sklearn.metrics import roc_curve, roc_auc_score\n",
    "\n",
    "# Getting the predicted probabilities for the positive\n",
    "prob_xgboost = xgb_model.predict_proba(X_test)[:, 1]\n",
    "prob_dtc = dt_model.predict_proba(X_test)[:, 1]\n",
    "prob_rf = RF.predict_proba(X_test)[:, 1]\n",
    "\n",
    "# Computing the ROC Curve for all 3 model\n",
    "fpr_xgboost, tpr_xgboost, _ = roc_curve(Y_test, prob_xgboost)\n",
    "fpr_dtc, tpr_dtc, _ = roc_curve(Y_test, prob_dtc)\n",
    "fpr_rf, tpr_rf, _ = roc_curve(Y_test, prob_rf)\n",
    "\n",
    "# Calculating the Area under the curve for all 3 model\n",
    "auc_xgboost = roc_auc_score(Y_test, prob_xgboost)\n",
    "auc_dtc = roc_auc_score(Y_test, prob_dtc)\n",
    "auc_rf = roc_auc_score(Y_test, prob_rf)\n",
    "\n",
    "#Plotting all 3 model\n",
    "plt.figure(figsize=(8, 8))\n",
    "plt.title('ROC Curve for All Models')\n",
    "plt.plot(fpr_xgboost, tpr_xgboost, label=f'XGBoost AUC = {auc_xgboost:.4f}', color='blue')\n",
    "plt.plot(fpr_dtc, tpr_dtc, label=f'Decision Tree AUC = {auc_dtc:.4f}', color='red')\n",
    "plt.plot(fpr_rf, tpr_rf, label=f'Random Forest AUC = {auc_rf:.4f}', color='green')\n",
    "plt.plot([0, 1], [0, 1], ls=\"--\", label='Random Classifier', color='gray')\n",
    "plt.xlabel('False Positive Rate')\n",
    "plt.ylabel('True Positive Rate')\n",
    "plt.legend(loc='lower right')\n",
    "plt.show()\n"
   ]
  },
  {
   "cell_type": "markdown",
   "id": "a4f6dd9e",
   "metadata": {},
   "source": [
    "### Model deployment and implementation "
   ]
  },
  {
   "cell_type": "code",
   "execution_count": 35,
   "id": "95dfc156",
   "metadata": {},
   "outputs": [
    {
     "data": {
      "text/plain": [
       "['xgb_model.pkl']"
      ]
     },
     "execution_count": 35,
     "metadata": {},
     "output_type": "execute_result"
    }
   ],
   "source": [
    "# we will save our xgboost model using joblib\n",
    "\n",
    "import joblib\n",
    "joblib.dump(xgb_model, 'xgb_model.pkl')"
   ]
  },
  {
   "cell_type": "markdown",
   "id": "a2621c70",
   "metadata": {},
   "source": [
    "## Creating our UI using Gradio Framework"
   ]
  },
  {
   "cell_type": "code",
   "execution_count": 36,
   "id": "20249783",
   "metadata": {},
   "outputs": [
    {
     "name": "stdout",
     "output_type": "stream",
     "text": [
      "Requirement already satisfied: gradio in c:\\users\\moyos\\anaconda3\\lib\\site-packages (4.44.1)\n",
      "Requirement already satisfied: anyio<5.0,>=3.0 in c:\\users\\moyos\\anaconda3\\lib\\site-packages (from gradio) (4.8.0)\n",
      "Requirement already satisfied: ruff>=0.2.2 in c:\\users\\moyos\\anaconda3\\lib\\site-packages (from gradio) (0.9.10)\n",
      "Requirement already satisfied: packaging in c:\\users\\moyos\\anaconda3\\lib\\site-packages (from gradio) (21.3)\n",
      "Requirement already satisfied: pandas<3.0,>=1.0 in c:\\users\\moyos\\anaconda3\\lib\\site-packages (from gradio) (1.4.2)\n",
      "Requirement already satisfied: uvicorn>=0.14.0 in c:\\users\\moyos\\anaconda3\\lib\\site-packages (from gradio) (0.34.0)\n",
      "Requirement already satisfied: httpx>=0.24.1 in c:\\users\\moyos\\anaconda3\\lib\\site-packages (from gradio) (0.28.1)\n",
      "Requirement already satisfied: pillow<11.0,>=8.0 in c:\\users\\moyos\\anaconda3\\lib\\site-packages (from gradio) (9.0.1)\n",
      "Requirement already satisfied: python-multipart>=0.0.9 in c:\\users\\moyos\\anaconda3\\lib\\site-packages (from gradio) (0.0.20)\n",
      "Requirement already satisfied: typer<1.0,>=0.12 in c:\\users\\moyos\\anaconda3\\lib\\site-packages (from gradio) (0.15.2)\n",
      "Requirement already satisfied: urllib3~=2.0 in c:\\users\\moyos\\anaconda3\\lib\\site-packages (from gradio) (2.3.0)\n",
      "Requirement already satisfied: ffmpy in c:\\users\\moyos\\anaconda3\\lib\\site-packages (from gradio) (0.5.0)\n",
      "Requirement already satisfied: orjson~=3.0 in c:\\users\\moyos\\anaconda3\\lib\\site-packages (from gradio) (3.10.15)\n",
      "Requirement already satisfied: gradio-client==1.3.0 in c:\\users\\moyos\\anaconda3\\lib\\site-packages (from gradio) (1.3.0)\n",
      "Requirement already satisfied: matplotlib~=3.0 in c:\\users\\moyos\\anaconda3\\lib\\site-packages (from gradio) (3.5.1)\n",
      "Requirement already satisfied: markupsafe~=2.0 in c:\\users\\moyos\\anaconda3\\lib\\site-packages (from gradio) (2.0.1)\n",
      "Requirement already satisfied: pyyaml<7.0,>=5.0 in c:\\users\\moyos\\anaconda3\\lib\\site-packages (from gradio) (6.0.2)\n",
      "Requirement already satisfied: semantic-version~=2.0 in c:\\users\\moyos\\anaconda3\\lib\\site-packages (from gradio) (2.10.0)\n",
      "Requirement already satisfied: tomlkit==0.12.0 in c:\\users\\moyos\\anaconda3\\lib\\site-packages (from gradio) (0.12.0)\n",
      "Requirement already satisfied: pydub in c:\\users\\moyos\\anaconda3\\lib\\site-packages (from gradio) (0.25.1)\n",
      "Requirement already satisfied: jinja2<4.0 in c:\\users\\moyos\\anaconda3\\lib\\site-packages (from gradio) (2.11.3)\n",
      "Requirement already satisfied: importlib-resources<7.0,>=1.3 in c:\\users\\moyos\\anaconda3\\lib\\site-packages (from gradio) (6.5.2)\n",
      "Requirement already satisfied: huggingface-hub>=0.19.3 in c:\\users\\moyos\\anaconda3\\lib\\site-packages (from gradio) (0.29.3)\n",
      "Requirement already satisfied: numpy<3.0,>=1.0 in c:\\users\\moyos\\anaconda3\\lib\\site-packages (from gradio) (1.21.0)\n",
      "Requirement already satisfied: aiofiles<24.0,>=22.0 in c:\\users\\moyos\\anaconda3\\lib\\site-packages (from gradio) (23.2.1)\n",
      "Requirement already satisfied: pydantic>=2.0 in c:\\users\\moyos\\anaconda3\\lib\\site-packages (from gradio) (2.10.6)\n",
      "Requirement already satisfied: fastapi<1.0 in c:\\users\\moyos\\anaconda3\\lib\\site-packages (from gradio) (0.115.11)\n",
      "Requirement already satisfied: typing-extensions~=4.0 in c:\\users\\moyos\\anaconda3\\lib\\site-packages (from gradio) (4.12.2)\n",
      "Requirement already satisfied: websockets<13.0,>=10.0 in c:\\users\\moyos\\anaconda3\\lib\\site-packages (from gradio-client==1.3.0->gradio) (12.0)\n",
      "Requirement already satisfied: fsspec in c:\\users\\moyos\\anaconda3\\lib\\site-packages (from gradio-client==1.3.0->gradio) (2025.3.0)\n",
      "Requirement already satisfied: exceptiongroup>=1.0.2 in c:\\users\\moyos\\anaconda3\\lib\\site-packages (from anyio<5.0,>=3.0->gradio) (1.2.2)\n",
      "Requirement already satisfied: idna>=2.8 in c:\\users\\moyos\\anaconda3\\lib\\site-packages (from anyio<5.0,>=3.0->gradio) (3.3)\n",
      "Requirement already satisfied: sniffio>=1.1 in c:\\users\\moyos\\anaconda3\\lib\\site-packages (from anyio<5.0,>=3.0->gradio) (1.2.0)\n",
      "Requirement already satisfied: starlette<0.47.0,>=0.40.0 in c:\\users\\moyos\\anaconda3\\lib\\site-packages (from fastapi<1.0->gradio) (0.46.1)\n",
      "Requirement already satisfied: certifi in c:\\users\\moyos\\anaconda3\\lib\\site-packages (from httpx>=0.24.1->gradio) (2021.10.8)\n",
      "Requirement already satisfied: httpcore==1.* in c:\\users\\moyos\\anaconda3\\lib\\site-packages (from httpx>=0.24.1->gradio) (1.0.7)\n",
      "Requirement already satisfied: h11<0.15,>=0.13 in c:\\users\\moyos\\anaconda3\\lib\\site-packages (from httpcore==1.*->httpx>=0.24.1->gradio) (0.14.0)\n",
      "Requirement already satisfied: tqdm>=4.42.1 in c:\\users\\moyos\\anaconda3\\lib\\site-packages (from huggingface-hub>=0.19.3->gradio) (4.64.0)\n",
      "Requirement already satisfied: requests in c:\\users\\moyos\\anaconda3\\lib\\site-packages (from huggingface-hub>=0.19.3->gradio) (2.32.3)\n",
      "Requirement already satisfied: filelock in c:\\users\\moyos\\anaconda3\\lib\\site-packages (from huggingface-hub>=0.19.3->gradio) (3.6.0)\n",
      "Requirement already satisfied: zipp>=3.1.0 in c:\\users\\moyos\\anaconda3\\lib\\site-packages (from importlib-resources<7.0,>=1.3->gradio) (3.7.0)\n",
      "Requirement already satisfied: pyparsing>=2.2.1 in c:\\users\\moyos\\anaconda3\\lib\\site-packages (from matplotlib~=3.0->gradio) (3.0.4)\n",
      "Requirement already satisfied: kiwisolver>=1.0.1 in c:\\users\\moyos\\anaconda3\\lib\\site-packages (from matplotlib~=3.0->gradio) (1.3.2)\n",
      "Requirement already satisfied: cycler>=0.10 in c:\\users\\moyos\\anaconda3\\lib\\site-packages (from matplotlib~=3.0->gradio) (0.11.0)\n",
      "Requirement already satisfied: fonttools>=4.22.0 in c:\\users\\moyos\\anaconda3\\lib\\site-packages (from matplotlib~=3.0->gradio) (4.25.0)\n",
      "Requirement already satisfied: python-dateutil>=2.7 in c:\\users\\moyos\\anaconda3\\lib\\site-packages (from matplotlib~=3.0->gradio) (2.9.0.post0)\n",
      "Requirement already satisfied: pytz>=2020.1 in c:\\users\\moyos\\anaconda3\\lib\\site-packages (from pandas<3.0,>=1.0->gradio) (2025.1)\n",
      "Requirement already satisfied: annotated-types>=0.6.0 in c:\\users\\moyos\\anaconda3\\lib\\site-packages (from pydantic>=2.0->gradio) (0.7.0)\n",
      "Requirement already satisfied: pydantic-core==2.27.2 in c:\\users\\moyos\\anaconda3\\lib\\site-packages (from pydantic>=2.0->gradio) (2.27.2)\n",
      "Requirement already satisfied: six>=1.5 in c:\\users\\moyos\\anaconda3\\lib\\site-packages (from python-dateutil>=2.7->matplotlib~=3.0->gradio) (1.17.0)\n",
      "Requirement already satisfied: colorama in c:\\users\\moyos\\anaconda3\\lib\\site-packages (from tqdm>=4.42.1->huggingface-hub>=0.19.3->gradio) (0.4.6)\n",
      "Requirement already satisfied: shellingham>=1.3.0 in c:\\users\\moyos\\anaconda3\\lib\\site-packages (from typer<1.0,>=0.12->gradio) (1.5.4)\n",
      "Requirement already satisfied: click>=8.0.0 in c:\\users\\moyos\\anaconda3\\lib\\site-packages (from typer<1.0,>=0.12->gradio) (8.0.4)\n",
      "Requirement already satisfied: rich>=10.11.0 in c:\\users\\moyos\\anaconda3\\lib\\site-packages (from typer<1.0,>=0.12->gradio) (13.9.4)\n",
      "Requirement already satisfied: pygments<3.0.0,>=2.13.0 in c:\\users\\moyos\\anaconda3\\lib\\site-packages (from rich>=10.11.0->typer<1.0,>=0.12->gradio) (2.19.1)\n",
      "Requirement already satisfied: markdown-it-py>=2.2.0 in c:\\users\\moyos\\anaconda3\\lib\\site-packages (from rich>=10.11.0->typer<1.0,>=0.12->gradio) (3.0.0)\n",
      "Requirement already satisfied: mdurl~=0.1 in c:\\users\\moyos\\anaconda3\\lib\\site-packages (from markdown-it-py>=2.2.0->rich>=10.11.0->typer<1.0,>=0.12->gradio) (0.1.2)\n",
      "Requirement already satisfied: charset-normalizer<4,>=2 in c:\\users\\moyos\\anaconda3\\lib\\site-packages (from requests->huggingface-hub>=0.19.3->gradio) (2.0.4)\n"
     ]
    }
   ],
   "source": [
    "#Install !pip install gradio\n",
    "!pip install gradio"
   ]
  },
  {
   "cell_type": "code",
   "execution_count": 37,
   "id": "ac0347e2",
   "metadata": {},
   "outputs": [
    {
     "name": "stdout",
     "output_type": "stream",
     "text": [
      "Running on local URL:  http://127.0.0.1:7860\n",
      "\n",
      "To create a public link, set `share=True` in `launch()`.\n"
     ]
    },
    {
     "data": {
      "text/html": [
       "<div><iframe src=\"http://127.0.0.1:7860/\" width=\"100%\" height=\"500\" allow=\"autoplay; camera; microphone; clipboard-read; clipboard-write;\" frameborder=\"0\" allowfullscreen></iframe></div>"
      ],
      "text/plain": [
       "<IPython.core.display.HTML object>"
      ]
     },
     "metadata": {},
     "output_type": "display_data"
    },
    {
     "data": {
      "text/plain": []
     },
     "execution_count": 37,
     "metadata": {},
     "output_type": "execute_result"
    }
   ],
   "source": [
    "import joblib\n",
    "import gradio as gr\n",
    "import pandas as pd\n",
    "\n",
    "# Load the saved XGBoost model we saved earlier\n",
    "model = joblib.load('xgb_model.pkl')\n",
    "\n",
    "# Define the encoding mappings\n",
    "encoding_mappings = {\n",
    "    'gender': {'Male': 1, 'Female': 0},\n",
    "    'ever_married': {'Yes': 1, 'No': 0},\n",
    "    'Residence_type': {'Urban': 1, 'Rural': 0},\n",
    "    'smoking_status': {'formerly smoked': 1, 'never smoked': 2, 'smokes': 3},\n",
    "    'work_type': {'Private': 2, 'Self-employed': 3, 'Govt_job': 0, 'children': 4, 'Never_worked': 1}\n",
    "}\n",
    "\n",
    "# Function to preprocess input data\n",
    "def preprocess_input(gender, age, hypertension, heart_disease, ever_married, work_type, Residence_type, avg_glucose_level, bmi, smoking_status):\n",
    "    # Create a dictionary from the input\n",
    "    input_data = {\n",
    "        'gender': gender,\n",
    "        'age': age,\n",
    "        'hypertension': hypertension,\n",
    "        'heart_disease': heart_disease,\n",
    "        'ever_married': ever_married,\n",
    "        'work_type': work_type,\n",
    "        'Residence_type': Residence_type,\n",
    "        'avg_glucose_level': avg_glucose_level,\n",
    "        'bmi': bmi,\n",
    "        'smoking_status': smoking_status\n",
    "    }\n",
    "    \n",
    "    # Convert the dictionary to a DataFrame\n",
    "    input_df = pd.DataFrame([input_data])\n",
    "    \n",
    "    # Encode categorical variables using the predefined mappings\n",
    "    input_df['gender'] = input_df['gender'].map(encoding_mappings['gender'])\n",
    "    input_df['ever_married'] = input_df['ever_married'].map(encoding_mappings['ever_married'])\n",
    "    input_df['Residence_type'] = input_df['Residence_type'].map(encoding_mappings['Residence_type'])\n",
    "    input_df['smoking_status'] = input_df['smoking_status'].map(encoding_mappings['smoking_status'])\n",
    "    input_df['work_type'] = input_df['work_type'].map(encoding_mappings['work_type'])\n",
    "    \n",
    "    return input_df\n",
    "\n",
    "# Function to make predictions\n",
    "def predict_stroke(gender, age, hypertension, heart_disease, ever_married, work_type, Residence_type, avg_glucose_level, bmi, smoking_status):\n",
    "    # Preprocess the input data\n",
    "    input_df = preprocess_input(gender, age, hypertension, heart_disease, ever_married, work_type, Residence_type, avg_glucose_level, bmi, smoking_status)\n",
    "    \n",
    "    # Make prediction using the loaded model\n",
    "    prediction = model.predict(input_df)\n",
    "    \n",
    "    # Customizing our UI so it shows more useful information in our response\n",
    "    if prediction[0] == 1:\n",
    "        response = \"🚨 **There is a potential risk of stroke.** Please consult a healthcare professional immediately.\"\n",
    "    else:\n",
    "        response = \"✅ **No significant risk of stroke detected.** Maintain a healthy lifestyle to stay safe.\"\n",
    "    \n",
    "    # Add confidence message\n",
    "    response += \"\\n\\nThis prediction is based on a highly accurate machine learning model with 96% accuracy.\"\n",
    "    \n",
    "    return response\n",
    "\n",
    "# Defining the Gradio interface with improved UI\n",
    "with gr.Blocks(theme=gr.themes.Soft()) as demo:\n",
    "    gr.Markdown(\"# Shabz Lab - Stroke Risk Assessment\")\n",
    "    gr.Markdown(\"Welcome to Shabz Lab's Stroke Risk Assessment Tool. Enter the patient's details below to evaluate their risk of stroke.\")\n",
    "    \n",
    "    with gr.Row():\n",
    "        gender = gr.Dropdown(choices=['Male', 'Female'], label=\"Gender\")\n",
    "        age = gr.Number(label=\"Age\")\n",
    "    with gr.Row():\n",
    "        hypertension = gr.Radio(choices=[(\"No\", 0), (\"Yes\", 1)], label=\"Hypertension\")\n",
    "        heart_disease = gr.Radio(choices=[(\"No\", 0), (\"Yes\", 1)], label=\"Heart Disease\")\n",
    "    with gr.Row():\n",
    "        ever_married = gr.Dropdown(choices=['Yes', 'No'], label=\"Ever Married\")\n",
    "        work_type = gr.Dropdown(choices=['Private', 'Self-employed', 'Govt_job', 'children', 'Never_worked'], label=\"Work Type\")\n",
    "    with gr.Row():\n",
    "        Residence_type = gr.Dropdown(choices=['Urban', 'Rural'], label=\"Residence Type\")\n",
    "        avg_glucose_level = gr.Number(label=\"Average Glucose Level\")\n",
    "    with gr.Row():\n",
    "        bmi = gr.Number(label=\"BMI\")\n",
    "        smoking_status = gr.Dropdown(choices=['formerly smoked', 'never smoked', 'smokes'], label=\"Smoking Status\")\n",
    "    \n",
    "    output = gr.Markdown(label=\"Prediction Result\")\n",
    "    \n",
    "    submit_button = gr.Button(\"Predict Stroke Risk\", variant=\"primary\")\n",
    "    submit_button.click(\n",
    "        predict_stroke,\n",
    "        inputs=[gender, age, hypertension, heart_disease, ever_married, work_type, Residence_type, avg_glucose_level, bmi, smoking_status],\n",
    "        outputs=output\n",
    "    )\n",
    "\n",
    "# Launch the interface in the notebook\n",
    "demo.launch(inline=True)"
   ]
  },
  {
   "cell_type": "code",
   "execution_count": null,
   "id": "5123a1c3",
   "metadata": {},
   "outputs": [],
   "source": []
  }
 ],
 "metadata": {
  "kernelspec": {
   "display_name": "Python 3 (ipykernel)",
   "language": "python",
   "name": "python3"
  },
  "language_info": {
   "codemirror_mode": {
    "name": "ipython",
    "version": 3
   },
   "file_extension": ".py",
   "mimetype": "text/x-python",
   "name": "python",
   "nbconvert_exporter": "python",
   "pygments_lexer": "ipython3",
   "version": "3.9.12"
  }
 },
 "nbformat": 4,
 "nbformat_minor": 5
}
